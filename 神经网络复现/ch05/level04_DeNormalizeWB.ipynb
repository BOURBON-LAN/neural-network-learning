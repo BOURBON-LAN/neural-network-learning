{
 "cells": [
  {
   "cell_type": "code",
   "execution_count": 7,
   "metadata": {},
   "outputs": [],
   "source": [
    "import numpy as np\n",
    "import matplotlib.pyplot as plt\n",
    "from mpl_toolkits.mplot3d import Axes3D\n",
    "\n",
    "from HelperClass.NeuralNet_1_1 import *\n",
    "\n",
    "file_name = \"ch05.npz\"\n",
    "\n",
    "def ShowResult(net, reader):\n",
    "    # draw example points\n",
    "    X,Y = reader.GetWholeTrainSamples()\n",
    "    fig = plt.figure()\n",
    "    ax = fig.add_subplot(111, projection='3d')\n",
    "    ax.scatter(X[:,0],X[:,1],Y)\n",
    "    # draw fitting surface\n",
    "    p = np.linspace(0,1)\n",
    "    q = np.linspace(0,1)\n",
    "    P,Q = np.meshgrid(p,q)\n",
    "    R = np.hstack((P.ravel().reshape(2500,1), Q.ravel().reshape(2500,1)))\n",
    "    Z = net.inference(R)\n",
    "    Z = Z.reshape(50,50)\n",
    "    ax.plot_surface(P,Q,Z, cmap='rainbow')\n",
    "    plt.show()"
   ]
  },
  {
   "cell_type": "code",
   "execution_count": 11,
   "metadata": {},
   "outputs": [
    {
     "name": "stdout",
     "output_type": "stream",
     "text": [
      "epoch=0\n"
     ]
    },
    {
     "ename": "TypeError",
     "evalue": "'method' object is not subscriptable",
     "output_type": "error",
     "traceback": [
      "\u001b[1;31m---------------------------------------------------------------------------\u001b[0m",
      "\u001b[1;31mTypeError\u001b[0m                                 Traceback (most recent call last)",
      "Cell \u001b[1;32mIn[11], line 11\u001b[0m\n\u001b[0;32m      8\u001b[0m \u001b[38;5;66;03m# use this setting when you want to train more loops\u001b[39;00m\n\u001b[0;32m      9\u001b[0m \u001b[38;5;66;03m#hp = HyperParameters_1_0(2, 1, eta=0.01, max_epoch=500, batch_size=10, eps = 1e-5)\u001b[39;00m\n\u001b[0;32m     10\u001b[0m net \u001b[38;5;241m=\u001b[39m NeuralNet_1_1(hp)\n\u001b[1;32m---> 11\u001b[0m \u001b[43mnet\u001b[49m\u001b[38;5;241;43m.\u001b[39;49m\u001b[43mtrain\u001b[49m\u001b[43m(\u001b[49m\u001b[43mreader\u001b[49m\u001b[43m,\u001b[49m\u001b[43m \u001b[49m\u001b[43mcheckpoint\u001b[49m\u001b[38;5;241;43m=\u001b[39;49m\u001b[38;5;241;43m0.1\u001b[39;49m\u001b[43m)\u001b[49m\n\u001b[0;32m     12\u001b[0m \u001b[38;5;66;03m# inference\u001b[39;00m\n\u001b[0;32m     13\u001b[0m x1 \u001b[38;5;241m=\u001b[39m \u001b[38;5;241m15\u001b[39m\n",
      "File \u001b[1;32mc:\\Users\\29685\\Desktop\\python复现\\ch05\\HelperClass\\NeuralNet_1_1.py:58\u001b[0m, in \u001b[0;36mNeuralNet_1_1.train\u001b[1;34m(self, dataReader, checkpoint)\u001b[0m\n\u001b[0;32m     56\u001b[0m dataReader\u001b[38;5;241m.\u001b[39mShuffle()\n\u001b[0;32m     57\u001b[0m \u001b[38;5;28;01mfor\u001b[39;00m iteration \u001b[38;5;129;01min\u001b[39;00m \u001b[38;5;28mrange\u001b[39m(max_iteration):\n\u001b[1;32m---> 58\u001b[0m     batch_x,batch_y \u001b[38;5;241m=\u001b[39m \u001b[43mdataReader\u001b[49m\u001b[38;5;241;43m.\u001b[39;49m\u001b[43mGetBatchTrainSample\u001b[49m\u001b[43m(\u001b[49m\u001b[38;5;28;43mself\u001b[39;49m\u001b[38;5;241;43m.\u001b[39;49m\u001b[43mhp\u001b[49m\u001b[38;5;241;43m.\u001b[39;49m\u001b[43mbatch_size\u001b[49m\u001b[43m,\u001b[49m\u001b[43miteration\u001b[49m\u001b[43m)\u001b[49m\n\u001b[0;32m     59\u001b[0m     batch_z \u001b[38;5;241m=\u001b[39m \u001b[38;5;28mself\u001b[39m\u001b[38;5;241m.\u001b[39m__forwardBatch(batch_x)\n\u001b[0;32m     60\u001b[0m     dW, dB\u001b[38;5;241m=\u001b[39m\u001b[38;5;28mself\u001b[39m\u001b[38;5;241m.\u001b[39m__backwardBatch(batch_x,batch_y,batch_z)\n",
      "File \u001b[1;32mc:\\Users\\29685\\Desktop\\python复现\\ch05\\HelperClass\\DataReader_1_1.py:67\u001b[0m, in \u001b[0;36mDataReader_1_1.GetBatchTrainSample\u001b[1;34m(self, batch_size, iteration)\u001b[0m\n\u001b[0;32m     65\u001b[0m end \u001b[38;5;241m=\u001b[39m start \u001b[38;5;241m+\u001b[39m batch_size\n\u001b[0;32m     66\u001b[0m batch_X \u001b[38;5;241m=\u001b[39m \u001b[38;5;28mself\u001b[39m\u001b[38;5;241m.\u001b[39mXtrain[start:end,:]\n\u001b[1;32m---> 67\u001b[0m batch_Y \u001b[38;5;241m=\u001b[39m \u001b[38;5;28;43mself\u001b[39;49m\u001b[38;5;241;43m.\u001b[39;49m\u001b[43mYtrain\u001b[49m\u001b[43m[\u001b[49m\u001b[43mstart\u001b[49m\u001b[43m:\u001b[49m\u001b[43mend\u001b[49m\u001b[43m,\u001b[49m\u001b[43m:\u001b[49m\u001b[43m]\u001b[49m\n\u001b[0;32m     68\u001b[0m \u001b[38;5;28;01mreturn\u001b[39;00m batch_X,batch_Y\n",
      "\u001b[1;31mTypeError\u001b[0m: 'method' object is not subscriptable"
     ]
    }
   ],
   "source": [
    "\n",
    "if __name__ == '__main__':\n",
    "    # data\n",
    "    reader = DataReader_1_1(file_name)\n",
    "    reader.ReadData()\n",
    "    reader.NormalizeX()\n",
    "    # use this setting for the first time\n",
    "    hp = HyperParameters_1_0(2, 1, eta=0.1, max_epoch=10, batch_size=1, eps = 1e-5)\n",
    "    # use this setting when you want to train more loops\n",
    "    #hp = HyperParameters_1_0(2, 1, eta=0.01, max_epoch=500, batch_size=10, eps = 1e-5)\n",
    "    net = NeuralNet_1_1(hp)\n",
    "    net.train(reader, checkpoint=0.1)\n",
    "    # inference\n",
    "    x1 = 15\n",
    "    x2 = 93\n",
    "    x = np.array([x1,x2]).reshape(1,2)\n",
    "    print(\"z=\", net.inference(x))\n",
    "\n",
    "    ShowResult(net, reader)"
   ]
  }
 ],
 "metadata": {
  "kernelspec": {
   "display_name": "venv1",
   "language": "python",
   "name": "python3"
  },
  "language_info": {
   "codemirror_mode": {
    "name": "ipython",
    "version": 3
   },
   "file_extension": ".py",
   "mimetype": "text/x-python",
   "name": "python",
   "nbconvert_exporter": "python",
   "pygments_lexer": "ipython3",
   "version": "3.12.4"
  }
 },
 "nbformat": 4,
 "nbformat_minor": 2
}
